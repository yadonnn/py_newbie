{
 "cells": [
  {
   "cell_type": "code",
   "execution_count": 1,
   "metadata": {},
   "outputs": [],
   "source": [
    "# 변수 만들기"
   ]
  },
  {
   "cell_type": "code",
   "execution_count": 7,
   "metadata": {},
   "outputs": [],
   "source": [
    "a = 10\n",
    "b = 11.11\n",
    "c = 'this is string'"
   ]
  },
  {
   "cell_type": "code",
   "execution_count": 8,
   "metadata": {},
   "outputs": [
    {
     "name": "stdout",
     "output_type": "stream",
     "text": [
      "10\n",
      "11.11\n",
      "this is string\n"
     ]
    }
   ],
   "source": [
    "print(a)\n",
    "print(b)\n",
    "print(c)"
   ]
  },
  {
   "cell_type": "code",
   "execution_count": 9,
   "metadata": {},
   "outputs": [
    {
     "name": "stdout",
     "output_type": "stream",
     "text": [
      "<class 'int'>\n",
      "<class 'float'>\n",
      "<class 'str'>\n"
     ]
    }
   ],
   "source": [
    "print(type(a)) # type(변수 or 데이터) : 변수 또는 데이터의 자료형 반환\n",
    "print(type(b))\n",
    "print(type(c))"
   ]
  },
  {
   "cell_type": "code",
   "execution_count": 1,
   "metadata": {},
   "outputs": [],
   "source": [
    "# 한 번에 여러 개의 값을 여러 개의 변수에 저장하는 명령\n",
    "a2, b2, c2 = 120, 123.456, 'another string'"
   ]
  },
  {
   "cell_type": "code",
   "execution_count": 2,
   "metadata": {},
   "outputs": [
    {
     "name": "stdout",
     "output_type": "stream",
     "text": [
      "120 <class 'int'>\n",
      "123.456 <class 'float'>\n",
      "another string <class 'str'>\n"
     ]
    }
   ],
   "source": [
    "print(a2, type(a2)) # print(변수1, 변수2) : 변수1, 변수2 모두 출력\n",
    "print(b2, type(b2))\n",
    "print(c2, type(c2))"
   ]
  },
  {
   "cell_type": "code",
   "execution_count": 3,
   "metadata": {},
   "outputs": [
    {
     "name": "stdout",
     "output_type": "stream",
     "text": [
      "e is to\n",
      "Life is to\n",
      "Life is to\n",
      "o short, You need Pyt\n"
     ]
    }
   ],
   "source": [
    "# INDEXING\n",
    "\n",
    "a = \"Life is too short, You need Python\"\n",
    "print(a[3:10]) #  3번째 문자부터 10번째 문자까지 뽑기 (범위표현에서 시작은 포함, 끝은 포함되지 않음)\n",
    "print(a[0:10])\n",
    "print(a[:10])\n",
    "print(a[10:-3])"
   ]
  },
  {
   "cell_type": "code",
   "execution_count": 9,
   "metadata": {},
   "outputs": [
    {
     "ename": "TypeError",
     "evalue": "'str' object does not support item assignment",
     "output_type": "error",
     "traceback": [
      "\u001b[1;31m---------------------------------------------------------------------------\u001b[0m",
      "\u001b[1;31mTypeError\u001b[0m                                 Traceback (most recent call last)",
      "Cell \u001b[1;32mIn[9], line 2\u001b[0m\n\u001b[0;32m      1\u001b[0m a \u001b[39m=\u001b[39m \u001b[39m\"\u001b[39m\u001b[39mLife is too short, You need Python\u001b[39m\u001b[39m\"\u001b[39m\n\u001b[1;32m----> 2\u001b[0m a[\u001b[39m12\u001b[39;49m] \u001b[39m=\u001b[39m \u001b[39m\"\u001b[39m\u001b[39mS\u001b[39m\u001b[39m\"\u001b[39m \u001b[39m# 문자열의 부분 요소 변경 불가능\u001b[39;00m\n\u001b[0;32m      3\u001b[0m \u001b[39mprint\u001b[39m(a[\u001b[39m12\u001b[39m])\n",
      "\u001b[1;31mTypeError\u001b[0m: 'str' object does not support item assignment"
     ]
    }
   ],
   "source": [
    "a = \"Life is too short, You need Python\"\n",
    "a[12] = \"S\" # 문자열의 부분 요소 변경 불가능\n",
    "print(a[12])"
   ]
  },
  {
   "cell_type": "code",
   "execution_count": 22,
   "metadata": {},
   "outputs": [
    {
     "name": "stdout",
     "output_type": "stream",
     "text": [
      "현재 시간은 12시 40분 입니다.\n",
      "현재 시간은 12시 40분 입니다.\n",
      "현재 시간은 12시 40분 입니다.\n",
      "현재 시간은 12시 40분 입니다.\n"
     ]
    }
   ],
   "source": [
    "hour, minutes = 12, 40\n",
    "\n",
    "message = \"현재 시간은 %d시 %d분 입니다.\"%(hour, minutes)\n",
    "print(message)\n",
    "\n",
    "message2 = \"현재 시간은 {0}시 {1}분 입니다.\".format(hour, minutes)\n",
    "print(message2)\n",
    "\n",
    "message3 = f\"현재 시간은 {hour}시 {minutes}분 입니다.\"\n",
    "print(message3)\n",
    "\n",
    "message4 = \"현재 시간은 {h}시 {m}분 입니다.\".format(h=hour,m=minutes)\n",
    "print(message4)"
   ]
  },
  {
   "cell_type": "code",
   "execution_count": 23,
   "metadata": {},
   "outputs": [
    {
     "name": "stdout",
     "output_type": "stream",
     "text": [
      "현재 시간은 12시 51분 입니다.\n"
     ]
    }
   ],
   "source": [
    "from datetime import datetime\n",
    "\n",
    "now = datetime.now()\n",
    "\n",
    "hour = now.hour\n",
    "minute = now.minute\n",
    "\n",
    "msg = f\"현재 시간은 {hour}시 {minute}분 입니다.\"\n",
    "print(msg)"
   ]
  },
  {
   "cell_type": "code",
   "execution_count": 27,
   "metadata": {},
   "outputs": [
    {
     "name": "stdout",
     "output_type": "stream",
     "text": [
      "34\n",
      "1\n",
      "9\n",
      "9\n",
      "LIFE IS TOO SHORT, YOU NEED PYTHON\n",
      "life is too short, you need python\n"
     ]
    }
   ],
   "source": [
    "msg = \"Life is too short, You need Python\"\n",
    "\n",
    "print(len(msg)) # len : 문자 갯수\n",
    "print(msg.count(\"oo\")) # count : 문자(열) 찾기 (갯수 반환)\n",
    "print(msg.find('o')) # find : 문자(열) 찾기 (위치 반환) > 없으면 -1\n",
    "print(msg.index('o')) # index : 문자(열) 찾기 (위치 반환) > 없으면 오류 발생\n",
    "print(msg.upper()) # 모두 대문자로 변환\n",
    "print(msg.lower()) # 모두 소문자로 변환"
   ]
  },
  {
   "cell_type": "code",
   "execution_count": 30,
   "metadata": {},
   "outputs": [
    {
     "name": "stdout",
     "output_type": "stream",
     "text": [
      "['red', 'orange', 'yellow', 'green', 'blue', 'navy', 'purple']\n",
      "green ,\n",
      "red$orange$yellow$green$blue$navy$purple\n"
     ]
    }
   ],
   "source": [
    "# 문자열 지원 함수(명령)\n",
    "color_string = \"red,orange,yellow,green,blue,navy,purple\"\n",
    "colors = color_string.split(\",\") # split : color_string을 \",\" 기준으로 분할해서 집합 데이터로 반환\n",
    "print(colors)\n",
    "print(colors[3], color_string[3])\n",
    "\n",
    "# colors.join(\"$\")\n",
    "color_string2 = \"$\".join(colors) # colors 집합의 각 요소를 $를 넣어서 문자열로 결합\n",
    "print(color_string2)\n"
   ]
  },
  {
   "cell_type": "code",
   "execution_count": 33,
   "metadata": {},
   "outputs": [
    {
     "name": "stdout",
     "output_type": "stream",
     "text": [
      "12\n",
      "10\n",
      "0123456789 \n",
      " 01234중간 데이터6789 \n"
     ]
    }
   ],
   "source": [
    "number_string = \" 0123456789 \"\n",
    "print(len(number_string))\n",
    "stripped_string = number_string.strip() # strip : 문자열 양 끝에서 space 제거 ( lstrip, rstrip 참고)\n",
    "print(len(stripped_string))\n",
    "print(number_string.lstrip())\n",
    "\n",
    "replaced_string = number_string.replace(\"5\", \"중간 데이터\") \n",
    "print(replaced_string)"
   ]
  },
  {
   "cell_type": "code",
   "execution_count": null,
   "metadata": {},
   "outputs": [],
   "source": []
  }
 ],
 "metadata": {
  "kernelspec": {
   "display_name": "kdt-da",
   "language": "python",
   "name": "python3"
  },
  "language_info": {
   "codemirror_mode": {
    "name": "ipython",
    "version": 3
   },
   "file_extension": ".py",
   "mimetype": "text/x-python",
   "name": "python",
   "nbconvert_exporter": "python",
   "pygments_lexer": "ipython3",
   "version": "3.9.16"
  },
  "orig_nbformat": 4
 },
 "nbformat": 4,
 "nbformat_minor": 2
}
